{
 "cells": [
  {
   "cell_type": "code",
   "execution_count": 3,
   "id": "b1b65fe5",
   "metadata": {},
   "outputs": [],
   "source": [
    "def X0():\n",
    "    import numpy as np\n",
    "    arr = np.arange(1,10).astype(str).reshape(3,3)\n",
    "    for i in range(9):\n",
    "        a = input('Enter X or 0: ')\n",
    "        x = input('Enter position: ')\n",
    "        item_index = np.where(arr==x)\n",
    "        c = item_index[0][0]\n",
    "        d = item_index[1][0]\n",
    "        arr[c,d] = a\n",
    "        print(arr)\n",
    "        if list(arr[[0,1,2],[0,1,2]])==list('X'*3) or (list(arr[[2,1,0],[0,1,2]])==list('X'*3)) or (list(arr[0,:])==list('X'*3)) or (list(arr[1,:])==list('X'*3)) or (list(arr[2,:])=='X') or (list(arr[:,0])==list('X'*3)) or (list(arr[:,1])==list('X'*3)) or (list(arr[:,2])==list(3*'X')):\n",
    "            print('Game over X won')\n",
    "            break\n",
    "        elif list(arr[[0,1,2],[0,1,2]])==list('0'*3) or (list(arr[[2,1,0],[0,1,2]])==list('0'*3)) or (list(arr[0,:])==list('0'*3)) or (list(arr[1,:])==list('0'*3)) or (list(arr[2,:])=='0') or (list(arr[:,0])==list('0'*3)) or (list(arr[:,1])==list('0'*3)) or (list(arr[:,2])==list(3*'0')):\n",
    "            print('Game over 0 won')\n",
    "            break"
   ]
  },
  {
   "cell_type": "code",
   "execution_count": null,
   "id": "4663f27c",
   "metadata": {},
   "outputs": [
    {
     "name": "stdout",
     "output_type": "stream",
     "text": [
      "Enter X or 0: X\n",
      "Enter position: 6\n",
      "[['1' '2' '3']\n",
      " ['4' '5' 'X']\n",
      " ['7' '8' '9']]\n",
      "Enter X or 0: 0\n",
      "Enter position: 5\n",
      "[['1' '2' '3']\n",
      " ['4' '0' 'X']\n",
      " ['7' '8' '9']]\n",
      "Enter X or 0: X\n",
      "Enter position: 3\n",
      "[['1' '2' 'X']\n",
      " ['4' '0' 'X']\n",
      " ['7' '8' '9']]\n",
      "Enter X or 0: 0\n",
      "Enter position: 9\n",
      "[['1' '2' 'X']\n",
      " ['4' '0' 'X']\n",
      " ['7' '8' '0']]\n",
      "Enter X or 0: X\n",
      "Enter position: 1\n",
      "[['X' '2' 'X']\n",
      " ['4' '0' 'X']\n",
      " ['7' '8' '0']]\n",
      "Enter X or 0: 0\n"
     ]
    }
   ],
   "source": [
    "X0()"
   ]
  },
  {
   "cell_type": "code",
   "execution_count": null,
   "id": "aca52724",
   "metadata": {},
   "outputs": [],
   "source": []
  }
 ],
 "metadata": {
  "kernelspec": {
   "display_name": "Python 3 (ipykernel)",
   "language": "python",
   "name": "python3"
  },
  "language_info": {
   "codemirror_mode": {
    "name": "ipython",
    "version": 3
   },
   "file_extension": ".py",
   "mimetype": "text/x-python",
   "name": "python",
   "nbconvert_exporter": "python",
   "pygments_lexer": "ipython3",
   "version": "3.8.1"
  }
 },
 "nbformat": 4,
 "nbformat_minor": 5
}
