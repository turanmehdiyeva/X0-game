{
 "cells": [
  {
   "cell_type": "code",
   "execution_count": 7,
   "id": "b1b65fe5",
   "metadata": {},
   "outputs": [],
   "source": [
    "def X0():\n",
    "    import numpy as np\n",
    "    arr = np.arange(1,10).astype(str).reshape(3,3)\n",
    "    for i in range(9):\n",
    "        a = input('Enter X or 0: ')\n",
    "        x = input('Enter position: ')\n",
    "        item_index = np.where(arr==x)\n",
    "        c = item_index[0][0]\n",
    "        d = item_index[1][0]\n",
    "        arr[c,d] = a\n",
    "        print(arr)\n",
    "        if list(arr[[0,1,2],[0,1,2]])==list('X'*3) or (list(arr[[2,1,0],[0,1,2]])==list('X'*3)) or (list(arr[0,:])==list('X'*3)) or (list(arr[1,:])==list('X'*3)) or (list(arr[2,:])=='X') or (list(arr[:,0])==list('X'*3)) or (list(arr[:,1])==list('X'*3)) or (list(arr[:,2])==list(3*'X')):\n",
    "            return 'Game over X won'\n",
    "        elif list(arr[[0,1,2],[0,1,2]])==list('0'*3) or (list(arr[[2,1,0],[0,1,2]])==list('0'*3)) or (list(arr[0,:])==list('0'*3)) or (list(arr[1,:])==list('0'*3)) or (list(arr[2,:])=='0') or (list(arr[:,0])==list('0'*3)) or (list(arr[:,1])==list('0'*3)) or (list(arr[:,2])==list(3*'0')):\n",
    "            return'Game over 0 won'\n",
    "        else:\n",
    "            continue\n",
    "    print('No winner')"
   ]
  },
  {
   "cell_type": "code",
   "execution_count": 8,
   "id": "4663f27c",
   "metadata": {},
   "outputs": [
    {
     "name": "stdout",
     "output_type": "stream",
     "text": [
      "Enter X or 0: X\n",
      "Enter position: 1\n",
      "[['X' '2' '3']\n",
      " ['4' '5' '6']\n",
      " ['7' '8' '9']]\n",
      "Enter X or 0: 0\n",
      "Enter position: 5\n",
      "[['X' '2' '3']\n",
      " ['4' '0' '6']\n",
      " ['7' '8' '9']]\n",
      "Enter X or 0: X\n",
      "Enter position: 2\n",
      "[['X' 'X' '3']\n",
      " ['4' '0' '6']\n",
      " ['7' '8' '9']]\n",
      "Enter X or 0: 0\n",
      "Enter position: 3\n",
      "[['X' 'X' '0']\n",
      " ['4' '0' '6']\n",
      " ['7' '8' '9']]\n",
      "Enter X or 0: 4\n",
      "Enter position: 4\n",
      "[['X' 'X' '0']\n",
      " ['4' '0' '6']\n",
      " ['7' '8' '9']]\n",
      "Enter X or 0: X\n",
      "Enter position: 4\n",
      "[['X' 'X' '0']\n",
      " ['X' '0' '6']\n",
      " ['7' '8' '9']]\n",
      "Enter X or 0: 0\n",
      "Enter position: 7\n",
      "[['X' 'X' '0']\n",
      " ['X' '0' '6']\n",
      " ['0' '8' '9']]\n"
     ]
    },
    {
     "data": {
      "text/plain": [
       "'Game over 0 won'"
      ]
     },
     "execution_count": 8,
     "metadata": {},
     "output_type": "execute_result"
    }
   ],
   "source": [
    "X0()"
   ]
  },
  {
   "cell_type": "code",
   "execution_count": null,
   "id": "aca52724",
   "metadata": {},
   "outputs": [],
   "source": []
  }
 ],
 "metadata": {
  "kernelspec": {
   "display_name": "Python 3 (ipykernel)",
   "language": "python",
   "name": "python3"
  },
  "language_info": {
   "codemirror_mode": {
    "name": "ipython",
    "version": 3
   },
   "file_extension": ".py",
   "mimetype": "text/x-python",
   "name": "python",
   "nbconvert_exporter": "python",
   "pygments_lexer": "ipython3",
   "version": "3.8.1"
  }
 },
 "nbformat": 4,
 "nbformat_minor": 5
}
